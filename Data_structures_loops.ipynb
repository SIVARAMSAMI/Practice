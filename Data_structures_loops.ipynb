{
 "cells": [
  {
   "cell_type": "markdown",
   "id": "cd2266e1",
   "metadata": {},
   "source": [
    "Data Structures"
   ]
  },
  {
   "cell_type": "markdown",
   "id": "ef6c81eb",
   "metadata": {},
   "source": [
    "List - []\n",
    "Tuple - ()\n",
    "Set  - {}\n",
    "Dictionary-{K:V}"
   ]
  },
  {
   "cell_type": "code",
   "execution_count": 77,
   "id": "022dab5a",
   "metadata": {},
   "outputs": [],
   "source": [
    "list1 = [10,30,49,89,89,89] #-- int list"
   ]
  },
  {
   "cell_type": "code",
   "execution_count": 78,
   "id": "7b80e5c2",
   "metadata": {},
   "outputs": [
    {
     "data": {
      "text/plain": [
       "[10, 30, 49, 89, 89, 89]"
      ]
     },
     "execution_count": 78,
     "metadata": {},
     "output_type": "execute_result"
    }
   ],
   "source": [
    "list1"
   ]
  },
  {
   "cell_type": "code",
   "execution_count": 79,
   "id": "de96c842",
   "metadata": {},
   "outputs": [
    {
     "data": {
      "text/plain": [
       "list"
      ]
     },
     "execution_count": 79,
     "metadata": {},
     "output_type": "execute_result"
    }
   ],
   "source": [
    "type(list1)"
   ]
  },
  {
   "cell_type": "code",
   "execution_count": 80,
   "id": "4735457d",
   "metadata": {},
   "outputs": [],
   "source": [
    "list2 = [45.89, 78.90,78.65,89.60]# -- float"
   ]
  },
  {
   "cell_type": "code",
   "execution_count": 81,
   "id": "1f4e22e4",
   "metadata": {},
   "outputs": [
    {
     "data": {
      "text/plain": [
       "[45.89, 78.9, 78.65, 89.6]"
      ]
     },
     "execution_count": 81,
     "metadata": {},
     "output_type": "execute_result"
    }
   ],
   "source": [
    "list2"
   ]
  },
  {
   "cell_type": "code",
   "execution_count": 82,
   "id": "38f299cc",
   "metadata": {},
   "outputs": [],
   "source": [
    "list3 = ['car', 'bike', 'lorry']"
   ]
  },
  {
   "cell_type": "code",
   "execution_count": 83,
   "id": "8e653c33",
   "metadata": {},
   "outputs": [
    {
     "data": {
      "text/plain": [
       "['car', 'bike', 'lorry']"
      ]
     },
     "execution_count": 83,
     "metadata": {},
     "output_type": "execute_result"
    }
   ],
   "source": [
    "list3"
   ]
  },
  {
   "cell_type": "code",
   "execution_count": 84,
   "id": "ad843c1e",
   "metadata": {},
   "outputs": [],
   "source": [
    "list4= [34, 56.78,'car', True, 78] # -- mixed list"
   ]
  },
  {
   "cell_type": "code",
   "execution_count": 85,
   "id": "f1d76c1c",
   "metadata": {},
   "outputs": [
    {
     "data": {
      "text/plain": [
       "[34, 56.78, 'car', True, 78]"
      ]
     },
     "execution_count": 85,
     "metadata": {},
     "output_type": "execute_result"
    }
   ],
   "source": [
    "list4"
   ]
  },
  {
   "cell_type": "code",
   "execution_count": 86,
   "id": "d39c84e2",
   "metadata": {},
   "outputs": [],
   "source": [
    "list1 = [10, 30, 49, 89, 98, 67]"
   ]
  },
  {
   "cell_type": "code",
   "execution_count": 87,
   "id": "bdb6697b",
   "metadata": {},
   "outputs": [
    {
     "data": {
      "text/plain": [
       "[10, 30, 49, 89, 98, 67]"
      ]
     },
     "execution_count": 87,
     "metadata": {},
     "output_type": "execute_result"
    }
   ],
   "source": [
    "list1"
   ]
  },
  {
   "cell_type": "code",
   "execution_count": 88,
   "id": "6797d9ec",
   "metadata": {},
   "outputs": [
    {
     "data": {
      "text/plain": [
       "10"
      ]
     },
     "execution_count": 88,
     "metadata": {},
     "output_type": "execute_result"
    }
   ],
   "source": [
    "list1[0]"
   ]
  },
  {
   "cell_type": "code",
   "execution_count": 89,
   "id": "b7d11931",
   "metadata": {},
   "outputs": [
    {
     "data": {
      "text/plain": [
       "98"
      ]
     },
     "execution_count": 89,
     "metadata": {},
     "output_type": "execute_result"
    }
   ],
   "source": [
    "list1[4]"
   ]
  },
  {
   "cell_type": "code",
   "execution_count": 90,
   "id": "67d3dd5e",
   "metadata": {},
   "outputs": [
    {
     "data": {
      "text/plain": [
       "67"
      ]
     },
     "execution_count": 90,
     "metadata": {},
     "output_type": "execute_result"
    }
   ],
   "source": [
    "list1[5]"
   ]
  },
  {
   "cell_type": "code",
   "execution_count": 91,
   "id": "73113be2",
   "metadata": {},
   "outputs": [
    {
     "data": {
      "text/plain": [
       "49"
      ]
     },
     "execution_count": 91,
     "metadata": {},
     "output_type": "execute_result"
    }
   ],
   "source": [
    "list1[-4]"
   ]
  },
  {
   "cell_type": "code",
   "execution_count": 92,
   "id": "236daaaa",
   "metadata": {},
   "outputs": [
    {
     "data": {
      "text/plain": [
       "67"
      ]
     },
     "execution_count": 92,
     "metadata": {},
     "output_type": "execute_result"
    }
   ],
   "source": [
    "list1[-1]"
   ]
  },
  {
   "cell_type": "code",
   "execution_count": 93,
   "id": "fb59aca9",
   "metadata": {},
   "outputs": [
    {
     "data": {
      "text/plain": [
       "49"
      ]
     },
     "execution_count": 93,
     "metadata": {},
     "output_type": "execute_result"
    }
   ],
   "source": [
    "list1[-4]"
   ]
  },
  {
   "cell_type": "code",
   "execution_count": 94,
   "id": "0a64d46e",
   "metadata": {},
   "outputs": [
    {
     "data": {
      "text/plain": [
       "10"
      ]
     },
     "execution_count": 94,
     "metadata": {},
     "output_type": "execute_result"
    }
   ],
   "source": [
    "list1[-6]"
   ]
  },
  {
   "cell_type": "code",
   "execution_count": 95,
   "id": "1e235e98",
   "metadata": {},
   "outputs": [
    {
     "data": {
      "text/plain": [
       "[10, 30, 49, 89, 98, 67]"
      ]
     },
     "execution_count": 95,
     "metadata": {},
     "output_type": "execute_result"
    }
   ],
   "source": [
    "list1"
   ]
  },
  {
   "cell_type": "code",
   "execution_count": 96,
   "id": "5d5382b8",
   "metadata": {},
   "outputs": [
    {
     "data": {
      "text/plain": [
       "[30, 49, 89, 98]"
      ]
     },
     "execution_count": 96,
     "metadata": {},
     "output_type": "execute_result"
    }
   ],
   "source": [
    "list1[1:5]"
   ]
  },
  {
   "cell_type": "code",
   "execution_count": 97,
   "id": "8feb76c8",
   "metadata": {},
   "outputs": [
    {
     "data": {
      "text/plain": [
       "[10, 30, 49, 89, 98]"
      ]
     },
     "execution_count": 97,
     "metadata": {},
     "output_type": "execute_result"
    }
   ],
   "source": [
    "list1[:5]"
   ]
  },
  {
   "cell_type": "code",
   "execution_count": 98,
   "id": "1892aea5",
   "metadata": {},
   "outputs": [
    {
     "data": {
      "text/plain": [
       "[10, 30, 49, 89]"
      ]
     },
     "execution_count": 98,
     "metadata": {},
     "output_type": "execute_result"
    }
   ],
   "source": [
    "list1[0:4]"
   ]
  },
  {
   "cell_type": "code",
   "execution_count": 99,
   "id": "696cfa19",
   "metadata": {},
   "outputs": [
    {
     "data": {
      "text/plain": [
       "[30]"
      ]
     },
     "execution_count": 99,
     "metadata": {},
     "output_type": "execute_result"
    }
   ],
   "source": [
    "list1[1:2]"
   ]
  },
  {
   "cell_type": "code",
   "execution_count": 100,
   "id": "b24487a5",
   "metadata": {},
   "outputs": [
    {
     "data": {
      "text/plain": [
       "[49, 89, 98]"
      ]
     },
     "execution_count": 100,
     "metadata": {},
     "output_type": "execute_result"
    }
   ],
   "source": [
    "list1[2:5]"
   ]
  },
  {
   "cell_type": "code",
   "execution_count": 101,
   "id": "67a7bd65",
   "metadata": {},
   "outputs": [
    {
     "data": {
      "text/plain": [
       "[10, 30, 49, 89, 98, 67]"
      ]
     },
     "execution_count": 101,
     "metadata": {},
     "output_type": "execute_result"
    }
   ],
   "source": [
    "list1"
   ]
  },
  {
   "cell_type": "code",
   "execution_count": 102,
   "id": "8c441b73",
   "metadata": {},
   "outputs": [
    {
     "data": {
      "text/plain": [
       "[10, 30, 49, 89, 98, 67]"
      ]
     },
     "execution_count": 102,
     "metadata": {},
     "output_type": "execute_result"
    }
   ],
   "source": [
    "list1[0:]"
   ]
  },
  {
   "cell_type": "code",
   "execution_count": 103,
   "id": "56a73a81",
   "metadata": {},
   "outputs": [
    {
     "data": {
      "text/plain": [
       "[49, 89, 98, 67]"
      ]
     },
     "execution_count": 103,
     "metadata": {},
     "output_type": "execute_result"
    }
   ],
   "source": [
    "list1[2:]"
   ]
  },
  {
   "cell_type": "code",
   "execution_count": 104,
   "id": "c77d020a",
   "metadata": {},
   "outputs": [
    {
     "data": {
      "text/plain": [
       "[10, 30, 49, 89, 98, 67]"
      ]
     },
     "execution_count": 104,
     "metadata": {},
     "output_type": "execute_result"
    }
   ],
   "source": [
    "list1[:]"
   ]
  },
  {
   "cell_type": "code",
   "execution_count": 105,
   "id": "450e0eb5",
   "metadata": {},
   "outputs": [
    {
     "data": {
      "text/plain": [
       "[10]"
      ]
     },
     "execution_count": 105,
     "metadata": {},
     "output_type": "execute_result"
    }
   ],
   "source": [
    "list1[:1]"
   ]
  },
  {
   "cell_type": "code",
   "execution_count": 106,
   "id": "d00c29cd",
   "metadata": {},
   "outputs": [
    {
     "data": {
      "text/plain": [
       "[10, 30, 49, 89, 98, 67]"
      ]
     },
     "execution_count": 106,
     "metadata": {},
     "output_type": "execute_result"
    }
   ],
   "source": [
    "list1[:6]"
   ]
  },
  {
   "cell_type": "code",
   "execution_count": 107,
   "id": "f89a057e",
   "metadata": {},
   "outputs": [
    {
     "data": {
      "text/plain": [
       "[10, 30, 49, 89, 98, 67]"
      ]
     },
     "execution_count": 107,
     "metadata": {},
     "output_type": "execute_result"
    }
   ],
   "source": [
    "list1"
   ]
  },
  {
   "cell_type": "code",
   "execution_count": 161,
   "id": "ace20e69",
   "metadata": {},
   "outputs": [],
   "source": [
    "list1 = ['BMW', 'Audi', 'Benz', 'Wolks', 'Ferrari', 'Suzuki', 'Honda', 'Hyundai']"
   ]
  },
  {
   "cell_type": "code",
   "execution_count": 109,
   "id": "0d357071",
   "metadata": {},
   "outputs": [
    {
     "data": {
      "text/plain": [
       "'Ferrari'"
      ]
     },
     "execution_count": 109,
     "metadata": {},
     "output_type": "execute_result"
    }
   ],
   "source": [
    "list1[4]"
   ]
  },
  {
   "cell_type": "code",
   "execution_count": 110,
   "id": "3ea00ca2",
   "metadata": {},
   "outputs": [
    {
     "data": {
      "text/plain": [
       "['Benz', 'Wolks', 'Ferrari', 'Suzuki', 'Honda']"
      ]
     },
     "execution_count": 110,
     "metadata": {},
     "output_type": "execute_result"
    }
   ],
   "source": [
    "list1[2:7]"
   ]
  },
  {
   "cell_type": "code",
   "execution_count": 111,
   "id": "c0de1794",
   "metadata": {},
   "outputs": [
    {
     "data": {
      "text/plain": [
       "['Honda']"
      ]
     },
     "execution_count": 111,
     "metadata": {},
     "output_type": "execute_result"
    }
   ],
   "source": [
    "list1[-2:-1]"
   ]
  },
  {
   "cell_type": "code",
   "execution_count": 112,
   "id": "3a5bebf8",
   "metadata": {},
   "outputs": [
    {
     "data": {
      "text/plain": [
       "['BMW', 'Audi', 'Benz', 'Wolks', 'Ferrari']"
      ]
     },
     "execution_count": 112,
     "metadata": {},
     "output_type": "execute_result"
    }
   ],
   "source": [
    "list1[0:5]"
   ]
  },
  {
   "cell_type": "code",
   "execution_count": 113,
   "id": "d1c98962",
   "metadata": {},
   "outputs": [
    {
     "data": {
      "text/plain": [
       "['BMW', 'Audi', 'Benz', 'Wolks', 'Ferrari', 'Suzuki', 'Honda', 'Hyundai']"
      ]
     },
     "execution_count": 113,
     "metadata": {},
     "output_type": "execute_result"
    }
   ],
   "source": [
    "list1"
   ]
  },
  {
   "cell_type": "code",
   "execution_count": 114,
   "id": "cb9c9b8f",
   "metadata": {},
   "outputs": [
    {
     "data": {
      "text/plain": [
       "'Suzuki'"
      ]
     },
     "execution_count": 114,
     "metadata": {},
     "output_type": "execute_result"
    }
   ],
   "source": [
    "list1[-3]"
   ]
  },
  {
   "cell_type": "code",
   "execution_count": 115,
   "id": "5907d201",
   "metadata": {},
   "outputs": [
    {
     "data": {
      "text/plain": [
       "'Wolks'"
      ]
     },
     "execution_count": 115,
     "metadata": {},
     "output_type": "execute_result"
    }
   ],
   "source": [
    "list1[-5]"
   ]
  },
  {
   "cell_type": "code",
   "execution_count": 116,
   "id": "b8542653",
   "metadata": {},
   "outputs": [
    {
     "data": {
      "text/plain": [
       "['BMW', 'Audi', 'Benz', 'Wolks', 'Ferrari', 'Suzuki']"
      ]
     },
     "execution_count": 116,
     "metadata": {},
     "output_type": "execute_result"
    }
   ],
   "source": [
    "list1[-8:-2]"
   ]
  },
  {
   "cell_type": "code",
   "execution_count": 117,
   "id": "4b604200",
   "metadata": {},
   "outputs": [
    {
     "data": {
      "text/plain": [
       "['BMW', 'Audi', 'Benz', 'Wolks', 'Ferrari', 'Suzuki', 'Honda', 'Hyundai']"
      ]
     },
     "execution_count": 117,
     "metadata": {},
     "output_type": "execute_result"
    }
   ],
   "source": [
    "list1"
   ]
  },
  {
   "cell_type": "code",
   "execution_count": 118,
   "id": "898ae699",
   "metadata": {},
   "outputs": [
    {
     "data": {
      "text/plain": [
       "['Benz', 'Wolks', 'Ferrari', 'Suzuki', 'Honda']"
      ]
     },
     "execution_count": 118,
     "metadata": {},
     "output_type": "execute_result"
    }
   ],
   "source": [
    "list1[-6:-1]"
   ]
  },
  {
   "cell_type": "markdown",
   "id": "6d194fca",
   "metadata": {},
   "source": [
    "List Operations:-"
   ]
  },
  {
   "cell_type": "code",
   "execution_count": 119,
   "id": "a8f07b86",
   "metadata": {},
   "outputs": [
    {
     "data": {
      "text/plain": [
       "['BMW', 'Audi', 'Benz', 'Wolks', 'Ferrari', 'Suzuki', 'Honda', 'Hyundai']"
      ]
     },
     "execution_count": 119,
     "metadata": {},
     "output_type": "execute_result"
    }
   ],
   "source": [
    "list1"
   ]
  },
  {
   "cell_type": "code",
   "execution_count": 120,
   "id": "833ba69e",
   "metadata": {},
   "outputs": [],
   "source": [
    "list1.append('Tata')"
   ]
  },
  {
   "cell_type": "code",
   "execution_count": 121,
   "id": "f31e414c",
   "metadata": {},
   "outputs": [
    {
     "data": {
      "text/plain": [
       "['BMW',\n",
       " 'Audi',\n",
       " 'Benz',\n",
       " 'Wolks',\n",
       " 'Ferrari',\n",
       " 'Suzuki',\n",
       " 'Honda',\n",
       " 'Hyundai',\n",
       " 'Tata']"
      ]
     },
     "execution_count": 121,
     "metadata": {},
     "output_type": "execute_result"
    }
   ],
   "source": [
    "list1"
   ]
  },
  {
   "cell_type": "code",
   "execution_count": 122,
   "id": "c471a097",
   "metadata": {},
   "outputs": [
    {
     "data": {
      "text/plain": [
       "'Wolks'"
      ]
     },
     "execution_count": 122,
     "metadata": {},
     "output_type": "execute_result"
    }
   ],
   "source": [
    "list1.pop(3)"
   ]
  },
  {
   "cell_type": "code",
   "execution_count": 123,
   "id": "9af9378c",
   "metadata": {},
   "outputs": [
    {
     "data": {
      "text/plain": [
       "['BMW', 'Audi', 'Benz', 'Ferrari', 'Suzuki', 'Honda', 'Hyundai', 'Tata']"
      ]
     },
     "execution_count": 123,
     "metadata": {},
     "output_type": "execute_result"
    }
   ],
   "source": [
    "list1"
   ]
  },
  {
   "cell_type": "code",
   "execution_count": 124,
   "id": "d9041bec",
   "metadata": {},
   "outputs": [],
   "source": [
    "list1.sort()"
   ]
  },
  {
   "cell_type": "code",
   "execution_count": 125,
   "id": "645b0e6b",
   "metadata": {},
   "outputs": [
    {
     "data": {
      "text/plain": [
       "['Audi', 'BMW', 'Benz', 'Ferrari', 'Honda', 'Hyundai', 'Suzuki', 'Tata']"
      ]
     },
     "execution_count": 125,
     "metadata": {},
     "output_type": "execute_result"
    }
   ],
   "source": [
    "list1"
   ]
  },
  {
   "cell_type": "code",
   "execution_count": 126,
   "id": "7f24d1b4",
   "metadata": {},
   "outputs": [],
   "source": [
    "list1.sort(reverse = True)"
   ]
  },
  {
   "cell_type": "code",
   "execution_count": 127,
   "id": "b12a0671",
   "metadata": {},
   "outputs": [
    {
     "data": {
      "text/plain": [
       "['Tata', 'Suzuki', 'Hyundai', 'Honda', 'Ferrari', 'Benz', 'BMW', 'Audi']"
      ]
     },
     "execution_count": 127,
     "metadata": {},
     "output_type": "execute_result"
    }
   ],
   "source": [
    "list1"
   ]
  },
  {
   "cell_type": "code",
   "execution_count": 128,
   "id": "3bcd0209",
   "metadata": {},
   "outputs": [
    {
     "data": {
      "text/plain": [
       "['Tata', 'Suzuki', 'Hyundai', 'Honda', 'Ferrari', 'Benz', 'BMW', 'Audi']"
      ]
     },
     "execution_count": 128,
     "metadata": {},
     "output_type": "execute_result"
    }
   ],
   "source": [
    "list1"
   ]
  },
  {
   "cell_type": "code",
   "execution_count": 129,
   "id": "032444a8",
   "metadata": {},
   "outputs": [],
   "source": [
    "list1.reverse()"
   ]
  },
  {
   "cell_type": "code",
   "execution_count": 130,
   "id": "4393a5de",
   "metadata": {},
   "outputs": [
    {
     "data": {
      "text/plain": [
       "['Audi', 'BMW', 'Benz', 'Ferrari', 'Honda', 'Hyundai', 'Suzuki', 'Tata']"
      ]
     },
     "execution_count": 130,
     "metadata": {},
     "output_type": "execute_result"
    }
   ],
   "source": [
    "list1"
   ]
  },
  {
   "cell_type": "code",
   "execution_count": 131,
   "id": "8f46954c",
   "metadata": {},
   "outputs": [
    {
     "data": {
      "text/plain": [
       "'Tata'"
      ]
     },
     "execution_count": 131,
     "metadata": {},
     "output_type": "execute_result"
    }
   ],
   "source": [
    "list1.pop()"
   ]
  },
  {
   "cell_type": "code",
   "execution_count": 132,
   "id": "81da72d9",
   "metadata": {},
   "outputs": [
    {
     "data": {
      "text/plain": [
       "['Audi', 'BMW', 'Benz', 'Ferrari', 'Honda', 'Hyundai', 'Suzuki']"
      ]
     },
     "execution_count": 132,
     "metadata": {},
     "output_type": "execute_result"
    }
   ],
   "source": [
    "list1"
   ]
  },
  {
   "cell_type": "code",
   "execution_count": 133,
   "id": "421ea37f",
   "metadata": {},
   "outputs": [],
   "source": [
    "list1.insert(2, 'BMW')"
   ]
  },
  {
   "cell_type": "code",
   "execution_count": 134,
   "id": "eb575db7",
   "metadata": {},
   "outputs": [],
   "source": [
    "list1.insert(4, 'Tata')"
   ]
  },
  {
   "cell_type": "code",
   "execution_count": 135,
   "id": "5fef8fb8",
   "metadata": {},
   "outputs": [
    {
     "data": {
      "text/plain": [
       "['Audi', 'BMW', 'BMW', 'Benz', 'Tata', 'Ferrari', 'Honda', 'Hyundai', 'Suzuki']"
      ]
     },
     "execution_count": 135,
     "metadata": {},
     "output_type": "execute_result"
    }
   ],
   "source": [
    "list1"
   ]
  },
  {
   "cell_type": "code",
   "execution_count": null,
   "id": "03137b1b",
   "metadata": {},
   "outputs": [],
   "source": []
  },
  {
   "cell_type": "code",
   "execution_count": 136,
   "id": "af60de0f",
   "metadata": {},
   "outputs": [
    {
     "data": {
      "text/plain": [
       "'Ferrari'"
      ]
     },
     "execution_count": 136,
     "metadata": {},
     "output_type": "execute_result"
    }
   ],
   "source": [
    "list1.pop(5)"
   ]
  },
  {
   "cell_type": "code",
   "execution_count": 137,
   "id": "a75ed07a",
   "metadata": {},
   "outputs": [
    {
     "data": {
      "text/plain": [
       "['Audi', 'BMW', 'BMW', 'Benz', 'Tata', 'Honda', 'Hyundai', 'Suzuki']"
      ]
     },
     "execution_count": 137,
     "metadata": {},
     "output_type": "execute_result"
    }
   ],
   "source": [
    "list1"
   ]
  },
  {
   "cell_type": "code",
   "execution_count": 140,
   "id": "296b7e69",
   "metadata": {},
   "outputs": [],
   "source": [
    "list1.append('BMW')"
   ]
  },
  {
   "cell_type": "code",
   "execution_count": 141,
   "id": "a8b92641",
   "metadata": {},
   "outputs": [
    {
     "data": {
      "text/plain": [
       "['Audi',\n",
       " 'BMW',\n",
       " 'BMW',\n",
       " 'Benz',\n",
       " 'Tata',\n",
       " 'Honda',\n",
       " 'Hyundai',\n",
       " 'Suzuki',\n",
       " 'BMW',\n",
       " 'BMW']"
      ]
     },
     "execution_count": 141,
     "metadata": {},
     "output_type": "execute_result"
    }
   ],
   "source": [
    "list1"
   ]
  },
  {
   "cell_type": "code",
   "execution_count": 142,
   "id": "745c73ec",
   "metadata": {},
   "outputs": [],
   "source": [
    "list1[1] ='KIA'"
   ]
  },
  {
   "cell_type": "code",
   "execution_count": 143,
   "id": "a6169d33",
   "metadata": {},
   "outputs": [
    {
     "data": {
      "text/plain": [
       "['Audi',\n",
       " 'KIA',\n",
       " 'BMW',\n",
       " 'Benz',\n",
       " 'Tata',\n",
       " 'Honda',\n",
       " 'Hyundai',\n",
       " 'Suzuki',\n",
       " 'BMW',\n",
       " 'BMW']"
      ]
     },
     "execution_count": 143,
     "metadata": {},
     "output_type": "execute_result"
    }
   ],
   "source": [
    "list1"
   ]
  },
  {
   "cell_type": "code",
   "execution_count": 144,
   "id": "58c78928",
   "metadata": {},
   "outputs": [],
   "source": [
    "list1.append('BMW')"
   ]
  },
  {
   "cell_type": "code",
   "execution_count": 145,
   "id": "abc69897",
   "metadata": {},
   "outputs": [
    {
     "data": {
      "text/plain": [
       "['Audi',\n",
       " 'KIA',\n",
       " 'BMW',\n",
       " 'Benz',\n",
       " 'Tata',\n",
       " 'Honda',\n",
       " 'Hyundai',\n",
       " 'Suzuki',\n",
       " 'BMW',\n",
       " 'BMW',\n",
       " 'BMW']"
      ]
     },
     "execution_count": 145,
     "metadata": {},
     "output_type": "execute_result"
    }
   ],
   "source": [
    "list1"
   ]
  },
  {
   "cell_type": "code",
   "execution_count": 146,
   "id": "5c8aedcd",
   "metadata": {},
   "outputs": [
    {
     "data": {
      "text/plain": [
       "4"
      ]
     },
     "execution_count": 146,
     "metadata": {},
     "output_type": "execute_result"
    }
   ],
   "source": [
    "list1.count('BMW')"
   ]
  },
  {
   "cell_type": "code",
   "execution_count": 147,
   "id": "7d248f7f",
   "metadata": {},
   "outputs": [
    {
     "data": {
      "text/plain": [
       "11"
      ]
     },
     "execution_count": 147,
     "metadata": {},
     "output_type": "execute_result"
    }
   ],
   "source": [
    "len(list1)"
   ]
  },
  {
   "cell_type": "code",
   "execution_count": 148,
   "id": "7c68e3ec",
   "metadata": {},
   "outputs": [
    {
     "data": {
      "text/plain": [
       "1"
      ]
     },
     "execution_count": 148,
     "metadata": {},
     "output_type": "execute_result"
    }
   ],
   "source": [
    "list1.count('KIA')"
   ]
  },
  {
   "cell_type": "code",
   "execution_count": 149,
   "id": "ed1e470f",
   "metadata": {},
   "outputs": [
    {
     "data": {
      "text/plain": [
       "['Audi',\n",
       " 'KIA',\n",
       " 'BMW',\n",
       " 'Benz',\n",
       " 'Tata',\n",
       " 'Honda',\n",
       " 'Hyundai',\n",
       " 'Suzuki',\n",
       " 'BMW',\n",
       " 'BMW',\n",
       " 'BMW']"
      ]
     },
     "execution_count": 149,
     "metadata": {},
     "output_type": "execute_result"
    }
   ],
   "source": [
    "list1"
   ]
  },
  {
   "cell_type": "code",
   "execution_count": 150,
   "id": "afde79e6",
   "metadata": {},
   "outputs": [],
   "source": [
    "list1.extend(['Lamb', 'Mahindra', 'Tata'])"
   ]
  },
  {
   "cell_type": "code",
   "execution_count": 151,
   "id": "7c3f40b9",
   "metadata": {},
   "outputs": [
    {
     "data": {
      "text/plain": [
       "['Audi',\n",
       " 'KIA',\n",
       " 'BMW',\n",
       " 'Benz',\n",
       " 'Tata',\n",
       " 'Honda',\n",
       " 'Hyundai',\n",
       " 'Suzuki',\n",
       " 'BMW',\n",
       " 'BMW',\n",
       " 'BMW',\n",
       " 'Lamb',\n",
       " 'Mahindra',\n",
       " 'Tata']"
      ]
     },
     "execution_count": 151,
     "metadata": {},
     "output_type": "execute_result"
    }
   ],
   "source": [
    "list1"
   ]
  },
  {
   "cell_type": "code",
   "execution_count": 152,
   "id": "e9797c5a",
   "metadata": {},
   "outputs": [],
   "source": [
    "list1.clear()"
   ]
  },
  {
   "cell_type": "code",
   "execution_count": 153,
   "id": "f7cba02d",
   "metadata": {},
   "outputs": [
    {
     "data": {
      "text/plain": [
       "[]"
      ]
     },
     "execution_count": 153,
     "metadata": {},
     "output_type": "execute_result"
    }
   ],
   "source": [
    "list1"
   ]
  },
  {
   "cell_type": "code",
   "execution_count": 154,
   "id": "0fc62710",
   "metadata": {},
   "outputs": [],
   "source": [
    "list1.extend(['Lamb', 'Mahindra', 'Tata'])"
   ]
  },
  {
   "cell_type": "code",
   "execution_count": 155,
   "id": "3e96767a",
   "metadata": {},
   "outputs": [
    {
     "data": {
      "text/plain": [
       "['Lamb', 'Mahindra', 'Tata']"
      ]
     },
     "execution_count": 155,
     "metadata": {},
     "output_type": "execute_result"
    }
   ],
   "source": [
    "list1"
   ]
  },
  {
   "cell_type": "code",
   "execution_count": 159,
   "id": "3adff780",
   "metadata": {},
   "outputs": [],
   "source": [
    "del list1"
   ]
  },
  {
   "cell_type": "code",
   "execution_count": 162,
   "id": "d7725c81",
   "metadata": {},
   "outputs": [
    {
     "data": {
      "text/plain": [
       "['BMW', 'Audi', 'Benz', 'Wolks', 'Ferrari', 'Suzuki', 'Honda', 'Hyundai']"
      ]
     },
     "execution_count": 162,
     "metadata": {},
     "output_type": "execute_result"
    }
   ],
   "source": [
    "list1"
   ]
  },
  {
   "cell_type": "code",
   "execution_count": 163,
   "id": "7865348c",
   "metadata": {},
   "outputs": [],
   "source": [
    "list1[2]= 'BMW'"
   ]
  },
  {
   "cell_type": "code",
   "execution_count": 164,
   "id": "9616d302",
   "metadata": {},
   "outputs": [
    {
     "data": {
      "text/plain": [
       "3"
      ]
     },
     "execution_count": 164,
     "metadata": {},
     "output_type": "execute_result"
    }
   ],
   "source": [
    "list1.index('Wolks')"
   ]
  },
  {
   "cell_type": "markdown",
   "id": "4ffb725e",
   "metadata": {},
   "source": [
    "Tuple"
   ]
  },
  {
   "cell_type": "code",
   "execution_count": 165,
   "id": "15f98ab2",
   "metadata": {},
   "outputs": [],
   "source": [
    "t1 = (23, 45, 78, 90,87)"
   ]
  },
  {
   "cell_type": "code",
   "execution_count": 166,
   "id": "22e4067d",
   "metadata": {},
   "outputs": [
    {
     "data": {
      "text/plain": [
       "tuple"
      ]
     },
     "execution_count": 166,
     "metadata": {},
     "output_type": "execute_result"
    }
   ],
   "source": [
    "type(t1)"
   ]
  },
  {
   "cell_type": "code",
   "execution_count": 167,
   "id": "04581238",
   "metadata": {},
   "outputs": [
    {
     "data": {
      "text/plain": [
       "(23, 45, 78, 90, 87)"
      ]
     },
     "execution_count": 167,
     "metadata": {},
     "output_type": "execute_result"
    }
   ],
   "source": [
    "t1"
   ]
  },
  {
   "cell_type": "code",
   "execution_count": 168,
   "id": "e5a2ba92",
   "metadata": {},
   "outputs": [
    {
     "data": {
      "text/plain": [
       "23"
      ]
     },
     "execution_count": 168,
     "metadata": {},
     "output_type": "execute_result"
    }
   ],
   "source": [
    "t1[0]"
   ]
  },
  {
   "cell_type": "code",
   "execution_count": 169,
   "id": "f6d4f4e5",
   "metadata": {},
   "outputs": [
    {
     "data": {
      "text/plain": [
       "78"
      ]
     },
     "execution_count": 169,
     "metadata": {},
     "output_type": "execute_result"
    }
   ],
   "source": [
    "t1[2]"
   ]
  },
  {
   "cell_type": "code",
   "execution_count": 170,
   "id": "e12d7042",
   "metadata": {},
   "outputs": [
    {
     "data": {
      "text/plain": [
       "(23, 45)"
      ]
     },
     "execution_count": 170,
     "metadata": {},
     "output_type": "execute_result"
    }
   ],
   "source": [
    "t1[0:2]"
   ]
  },
  {
   "cell_type": "code",
   "execution_count": 171,
   "id": "dbc38b42",
   "metadata": {},
   "outputs": [
    {
     "data": {
      "text/plain": [
       "87"
      ]
     },
     "execution_count": 171,
     "metadata": {},
     "output_type": "execute_result"
    }
   ],
   "source": [
    "t1[-1]"
   ]
  },
  {
   "cell_type": "code",
   "execution_count": 172,
   "id": "5b438449",
   "metadata": {},
   "outputs": [
    {
     "data": {
      "text/plain": [
       "(78, 90)"
      ]
     },
     "execution_count": 172,
     "metadata": {},
     "output_type": "execute_result"
    }
   ],
   "source": [
    "t1[-3:-1]"
   ]
  },
  {
   "cell_type": "code",
   "execution_count": 173,
   "id": "ae9471de",
   "metadata": {},
   "outputs": [
    {
     "data": {
      "text/plain": [
       "23"
      ]
     },
     "execution_count": 173,
     "metadata": {},
     "output_type": "execute_result"
    }
   ],
   "source": [
    "t1[0]"
   ]
  },
  {
   "cell_type": "markdown",
   "id": "cf3944d4",
   "metadata": {},
   "source": [
    "# Dictionary"
   ]
  },
  {
   "cell_type": "markdown",
   "id": "b3104579",
   "metadata": {},
   "source": [
    "Key Value pair {}"
   ]
  },
  {
   "cell_type": "markdown",
   "id": "582ead39",
   "metadata": {},
   "source": [
    "{key :value, key : value}"
   ]
  },
  {
   "cell_type": "code",
   "execution_count": 179,
   "id": "e2db05a2",
   "metadata": {},
   "outputs": [],
   "source": [
    "d1 = {'id': 101, 'Name' : 'John', 'Salary' : 1000}"
   ]
  },
  {
   "cell_type": "code",
   "execution_count": 177,
   "id": "54a44aa2",
   "metadata": {},
   "outputs": [
    {
     "data": {
      "text/plain": [
       "dict"
      ]
     },
     "execution_count": 177,
     "metadata": {},
     "output_type": "execute_result"
    }
   ],
   "source": [
    "type(d1)"
   ]
  },
  {
   "cell_type": "code",
   "execution_count": 180,
   "id": "49661bb6",
   "metadata": {},
   "outputs": [
    {
     "data": {
      "text/plain": [
       "{'id': 101, 'Name': 'John', 'Salary': 1000}"
      ]
     },
     "execution_count": 180,
     "metadata": {},
     "output_type": "execute_result"
    }
   ],
   "source": [
    "d1"
   ]
  },
  {
   "cell_type": "code",
   "execution_count": 181,
   "id": "28113a8b",
   "metadata": {},
   "outputs": [
    {
     "data": {
      "text/plain": [
       "dict_keys(['id', 'Name', 'Salary'])"
      ]
     },
     "execution_count": 181,
     "metadata": {},
     "output_type": "execute_result"
    }
   ],
   "source": [
    "d1.keys()"
   ]
  },
  {
   "cell_type": "code",
   "execution_count": 182,
   "id": "9d1e1aef",
   "metadata": {},
   "outputs": [
    {
     "data": {
      "text/plain": [
       "dict_values([101, 'John', 1000])"
      ]
     },
     "execution_count": 182,
     "metadata": {},
     "output_type": "execute_result"
    }
   ],
   "source": [
    "d1.values()"
   ]
  },
  {
   "cell_type": "code",
   "execution_count": 183,
   "id": "fdc3fa01",
   "metadata": {},
   "outputs": [
    {
     "data": {
      "text/plain": [
       "dict_items([('id', 101), ('Name', 'John'), ('Salary', 1000)])"
      ]
     },
     "execution_count": 183,
     "metadata": {},
     "output_type": "execute_result"
    }
   ],
   "source": [
    "d1.items()"
   ]
  },
  {
   "cell_type": "code",
   "execution_count": 184,
   "id": "85a08f66",
   "metadata": {},
   "outputs": [
    {
     "data": {
      "text/plain": [
       "101"
      ]
     },
     "execution_count": 184,
     "metadata": {},
     "output_type": "execute_result"
    }
   ],
   "source": [
    "d1['id']"
   ]
  },
  {
   "cell_type": "code",
   "execution_count": 185,
   "id": "125c2373",
   "metadata": {},
   "outputs": [
    {
     "data": {
      "text/plain": [
       "'John'"
      ]
     },
     "execution_count": 185,
     "metadata": {},
     "output_type": "execute_result"
    }
   ],
   "source": [
    "d1['Name']"
   ]
  },
  {
   "cell_type": "code",
   "execution_count": 187,
   "id": "3d50228a",
   "metadata": {},
   "outputs": [
    {
     "data": {
      "text/plain": [
       "1000"
      ]
     },
     "execution_count": 187,
     "metadata": {},
     "output_type": "execute_result"
    }
   ],
   "source": [
    "d1['Salary']"
   ]
  },
  {
   "cell_type": "code",
   "execution_count": 188,
   "id": "19e001dd",
   "metadata": {},
   "outputs": [
    {
     "data": {
      "text/plain": [
       "{'id': 101, 'Name': 'John', 'Salary': 1000}"
      ]
     },
     "execution_count": 188,
     "metadata": {},
     "output_type": "execute_result"
    }
   ],
   "source": [
    "d1"
   ]
  },
  {
   "cell_type": "code",
   "execution_count": 189,
   "id": "7071c9ec",
   "metadata": {},
   "outputs": [],
   "source": [
    "d1.update({'Age': 32})"
   ]
  },
  {
   "cell_type": "code",
   "execution_count": 190,
   "id": "32aa2e4f",
   "metadata": {},
   "outputs": [
    {
     "data": {
      "text/plain": [
       "{'id': 101, 'Name': 'John', 'Salary': 1000, 'Age': 32}"
      ]
     },
     "execution_count": 190,
     "metadata": {},
     "output_type": "execute_result"
    }
   ],
   "source": [
    "d1"
   ]
  },
  {
   "cell_type": "code",
   "execution_count": 192,
   "id": "2f2292ee",
   "metadata": {},
   "outputs": [],
   "source": [
    "d1['Age'] = 41"
   ]
  },
  {
   "cell_type": "code",
   "execution_count": 193,
   "id": "11f1b017",
   "metadata": {},
   "outputs": [
    {
     "data": {
      "text/plain": [
       "{'id': 101, 'Name': 'John', 'Salary': 1000, 'Age': 41}"
      ]
     },
     "execution_count": 193,
     "metadata": {},
     "output_type": "execute_result"
    }
   ],
   "source": [
    "d1"
   ]
  },
  {
   "cell_type": "code",
   "execution_count": 194,
   "id": "07378b26",
   "metadata": {},
   "outputs": [
    {
     "data": {
      "text/plain": [
       "41"
      ]
     },
     "execution_count": 194,
     "metadata": {},
     "output_type": "execute_result"
    }
   ],
   "source": [
    "d1.pop('Age')"
   ]
  },
  {
   "cell_type": "code",
   "execution_count": 195,
   "id": "8e7316c4",
   "metadata": {},
   "outputs": [
    {
     "data": {
      "text/plain": [
       "{'id': 101, 'Name': 'John', 'Salary': 1000}"
      ]
     },
     "execution_count": 195,
     "metadata": {},
     "output_type": "execute_result"
    }
   ],
   "source": [
    "d1"
   ]
  },
  {
   "cell_type": "code",
   "execution_count": 197,
   "id": "6092d8a1",
   "metadata": {},
   "outputs": [],
   "source": [
    "d1.clear()"
   ]
  },
  {
   "cell_type": "code",
   "execution_count": 198,
   "id": "750f03e7",
   "metadata": {},
   "outputs": [
    {
     "data": {
      "text/plain": [
       "{}"
      ]
     },
     "execution_count": 198,
     "metadata": {},
     "output_type": "execute_result"
    }
   ],
   "source": [
    "d1"
   ]
  },
  {
   "cell_type": "code",
   "execution_count": 199,
   "id": "9d272e5a",
   "metadata": {},
   "outputs": [],
   "source": [
    "d1.update({'Age': 32})"
   ]
  },
  {
   "cell_type": "code",
   "execution_count": 200,
   "id": "de38c653",
   "metadata": {},
   "outputs": [
    {
     "data": {
      "text/plain": [
       "{'Age': 32}"
      ]
     },
     "execution_count": 200,
     "metadata": {},
     "output_type": "execute_result"
    }
   ],
   "source": [
    "d1"
   ]
  },
  {
   "cell_type": "code",
   "execution_count": 201,
   "id": "6276119a",
   "metadata": {},
   "outputs": [],
   "source": [
    "del d1"
   ]
  },
  {
   "cell_type": "code",
   "execution_count": 211,
   "id": "3d41d41a",
   "metadata": {},
   "outputs": [],
   "source": [
    "d2 = {'id': [101,102,103], 'Name' : ('John', 'Mark', 'Antony'), 'Age': 41}"
   ]
  },
  {
   "cell_type": "code",
   "execution_count": 204,
   "id": "f523b1f2",
   "metadata": {},
   "outputs": [
    {
     "data": {
      "text/plain": [
       "{'id': [101, 102, 103], 'Name': ('John', 'Mark', 'Antony'), 'Age': 41}"
      ]
     },
     "execution_count": 204,
     "metadata": {},
     "output_type": "execute_result"
    }
   ],
   "source": [
    "d2"
   ]
  },
  {
   "cell_type": "code",
   "execution_count": 205,
   "id": "a549e6eb",
   "metadata": {},
   "outputs": [
    {
     "data": {
      "text/plain": [
       "[101, 102, 103]"
      ]
     },
     "execution_count": 205,
     "metadata": {},
     "output_type": "execute_result"
    }
   ],
   "source": [
    "d2['id']"
   ]
  },
  {
   "cell_type": "code",
   "execution_count": 206,
   "id": "4f4b0de6",
   "metadata": {},
   "outputs": [],
   "source": [
    "d2['id'] = [101,102]"
   ]
  },
  {
   "cell_type": "code",
   "execution_count": 207,
   "id": "a2955c8d",
   "metadata": {},
   "outputs": [
    {
     "data": {
      "text/plain": [
       "{'id': [101, 102], 'Name': ('John', 'Mark', 'Antony'), 'Age': 41}"
      ]
     },
     "execution_count": 207,
     "metadata": {},
     "output_type": "execute_result"
    }
   ],
   "source": [
    "d2"
   ]
  },
  {
   "cell_type": "code",
   "execution_count": 208,
   "id": "1437ab70",
   "metadata": {},
   "outputs": [],
   "source": [
    "d2['Name'] = 'PoPeye'"
   ]
  },
  {
   "cell_type": "code",
   "execution_count": 209,
   "id": "a76cc786",
   "metadata": {},
   "outputs": [
    {
     "data": {
      "text/plain": [
       "{'id': [101, 102], 'Name': 'PoPeye', 'Age': 41}"
      ]
     },
     "execution_count": 209,
     "metadata": {},
     "output_type": "execute_result"
    }
   ],
   "source": [
    "d2"
   ]
  },
  {
   "cell_type": "code",
   "execution_count": 212,
   "id": "9696d518",
   "metadata": {},
   "outputs": [
    {
     "data": {
      "text/plain": [
       "{'id': [101, 102, 103], 'Name': ('John', 'Mark', 'Antony'), 'Age': 41}"
      ]
     },
     "execution_count": 212,
     "metadata": {},
     "output_type": "execute_result"
    }
   ],
   "source": [
    "d2"
   ]
  },
  {
   "cell_type": "code",
   "execution_count": 214,
   "id": "af2f4d53",
   "metadata": {},
   "outputs": [],
   "source": [
    "d2['id'][0] = 201"
   ]
  },
  {
   "cell_type": "code",
   "execution_count": 213,
   "id": "9a416abf",
   "metadata": {},
   "outputs": [
    {
     "data": {
      "text/plain": [
       "'Mark'"
      ]
     },
     "execution_count": 213,
     "metadata": {},
     "output_type": "execute_result"
    }
   ],
   "source": [
    "d2['Name'][1]"
   ]
  },
  {
   "cell_type": "code",
   "execution_count": 215,
   "id": "1c6c70c3",
   "metadata": {},
   "outputs": [
    {
     "data": {
      "text/plain": [
       "{'id': [201, 102, 103], 'Name': ('John', 'Mark', 'Antony'), 'Age': 41}"
      ]
     },
     "execution_count": 215,
     "metadata": {},
     "output_type": "execute_result"
    }
   ],
   "source": [
    "d2"
   ]
  },
  {
   "cell_type": "code",
   "execution_count": 216,
   "id": "2665ef58",
   "metadata": {},
   "outputs": [
    {
     "ename": "TypeError",
     "evalue": "'tuple' object does not support item assignment",
     "output_type": "error",
     "traceback": [
      "\u001b[1;31m---------------------------------------------------------------------------\u001b[0m",
      "\u001b[1;31mTypeError\u001b[0m                                 Traceback (most recent call last)",
      "Cell \u001b[1;32mIn[216], line 1\u001b[0m\n\u001b[1;32m----> 1\u001b[0m d2[\u001b[38;5;124m'\u001b[39m\u001b[38;5;124mName\u001b[39m\u001b[38;5;124m'\u001b[39m][\u001b[38;5;241m1\u001b[39m] \u001b[38;5;241m=\u001b[39m \u001b[38;5;124m'\u001b[39m\u001b[38;5;124mPopye\u001b[39m\u001b[38;5;124m'\u001b[39m\n",
      "\u001b[1;31mTypeError\u001b[0m: 'tuple' object does not support item assignment"
     ]
    }
   ],
   "source": [
    "d2['Name'][1] = 'Popye'"
   ]
  },
  {
   "cell_type": "markdown",
   "id": "b994b467",
   "metadata": {},
   "source": [
    "# Set"
   ]
  },
  {
   "cell_type": "code",
   "execution_count": 217,
   "id": "3326c609",
   "metadata": {},
   "outputs": [],
   "source": [
    "s1 = {10,12,45,78,89}"
   ]
  },
  {
   "cell_type": "code",
   "execution_count": 218,
   "id": "b67ed62d",
   "metadata": {},
   "outputs": [
    {
     "data": {
      "text/plain": [
       "{10, 12, 45, 78, 89}"
      ]
     },
     "execution_count": 218,
     "metadata": {},
     "output_type": "execute_result"
    }
   ],
   "source": [
    "s1"
   ]
  },
  {
   "cell_type": "code",
   "execution_count": 219,
   "id": "5df7b898",
   "metadata": {},
   "outputs": [
    {
     "data": {
      "text/plain": [
       "set"
      ]
     },
     "execution_count": 219,
     "metadata": {},
     "output_type": "execute_result"
    }
   ],
   "source": [
    "type(s1)"
   ]
  },
  {
   "cell_type": "code",
   "execution_count": 221,
   "id": "c0a0af59",
   "metadata": {},
   "outputs": [],
   "source": [
    "s1 = {10,12,45,78,89, 10,89, 67,1, 67,90,101,808}"
   ]
  },
  {
   "cell_type": "code",
   "execution_count": 222,
   "id": "98d89dad",
   "metadata": {},
   "outputs": [
    {
     "data": {
      "text/plain": [
       "{1, 10, 12, 45, 67, 78, 89, 90, 101, 808}"
      ]
     },
     "execution_count": 222,
     "metadata": {},
     "output_type": "execute_result"
    }
   ],
   "source": [
    "s1"
   ]
  },
  {
   "cell_type": "code",
   "execution_count": 224,
   "id": "ff87c7a2",
   "metadata": {},
   "outputs": [
    {
     "ename": "TypeError",
     "evalue": "'set' object does not support item assignment",
     "output_type": "error",
     "traceback": [
      "\u001b[1;31m---------------------------------------------------------------------------\u001b[0m",
      "\u001b[1;31mTypeError\u001b[0m                                 Traceback (most recent call last)",
      "Cell \u001b[1;32mIn[224], line 1\u001b[0m\n\u001b[1;32m----> 1\u001b[0m s1[\u001b[38;5;241m1\u001b[39m]\u001b[38;5;241m=\u001b[39m \u001b[38;5;241m100\u001b[39m\n",
      "\u001b[1;31mTypeError\u001b[0m: 'set' object does not support item assignment"
     ]
    }
   ],
   "source": [
    "s1[1]= 100"
   ]
  },
  {
   "cell_type": "code",
   "execution_count": 225,
   "id": "f63c0835",
   "metadata": {},
   "outputs": [],
   "source": [
    "s1.add(55)"
   ]
  },
  {
   "cell_type": "code",
   "execution_count": 226,
   "id": "35f53b67",
   "metadata": {},
   "outputs": [
    {
     "data": {
      "text/plain": [
       "{1, 10, 12, 45, 55, 67, 78, 89, 90, 101, 808}"
      ]
     },
     "execution_count": 226,
     "metadata": {},
     "output_type": "execute_result"
    }
   ],
   "source": [
    "s1"
   ]
  },
  {
   "cell_type": "code",
   "execution_count": 227,
   "id": "e69a2c2c",
   "metadata": {},
   "outputs": [],
   "source": [
    "s2 = {'Monday', 'Tuesday', 'Wednesday', 'Thursday', 'Friday', 'Saturday', 'Sunday'}"
   ]
  },
  {
   "cell_type": "code",
   "execution_count": 228,
   "id": "6c01bb35",
   "metadata": {},
   "outputs": [
    {
     "data": {
      "text/plain": [
       "{'Friday', 'Monday', 'Saturday', 'Sunday', 'Thursday', 'Tuesday', 'Wednesday'}"
      ]
     },
     "execution_count": 228,
     "metadata": {},
     "output_type": "execute_result"
    }
   ],
   "source": [
    "s2"
   ]
  },
  {
   "cell_type": "markdown",
   "id": "fa0af2d7",
   "metadata": {},
   "source": [
    "# Loops"
   ]
  },
  {
   "cell_type": "code",
   "execution_count": 240,
   "id": "de7c99b8",
   "metadata": {},
   "outputs": [
    {
     "name": "stdout",
     "output_type": "stream",
     "text": [
      "0\n",
      "1\n",
      "2\n",
      "3\n",
      "4\n",
      "5\n",
      "6\n",
      "7\n",
      "8\n",
      "9\n"
     ]
    }
   ],
   "source": [
    "i =0 #-- Initialisation 0 1 2\n",
    "\n",
    "while i<10: #-- Condition\n",
    "    \n",
    "    print(i)   \n",
    "    \n",
    "    i =i+1 #--Increment"
   ]
  },
  {
   "cell_type": "code",
   "execution_count": 237,
   "id": "abebe402",
   "metadata": {},
   "outputs": [
    {
     "name": "stdout",
     "output_type": "stream",
     "text": [
      "True\n",
      "True\n",
      "True\n",
      "True\n",
      "True\n",
      "True\n",
      "True\n",
      "True\n",
      "True\n",
      "True\n",
      "True\n",
      "True\n",
      "True\n",
      "True\n",
      "True\n",
      "True\n",
      "True\n",
      "True\n",
      "True\n",
      "True\n"
     ]
    }
   ],
   "source": [
    "i =1\n",
    "\n",
    "while i<20: \n",
    "    print(\"True\")  \n",
    "    i = i+1   "
   ]
  },
  {
   "cell_type": "code",
   "execution_count": 234,
   "id": "fbe6ed42",
   "metadata": {},
   "outputs": [
    {
     "name": "stdout",
     "output_type": "stream",
     "text": [
      "True\n",
      "True\n",
      "True\n",
      "True\n",
      "True\n"
     ]
    }
   ],
   "source": [
    "print(\"True\")\n",
    "print(\"True\")\n",
    "print(\"True\")\n",
    "print(\"True\")\n",
    "print(\"True\")"
   ]
  },
  {
   "cell_type": "code",
   "execution_count": 249,
   "id": "0bfc1cd7",
   "metadata": {},
   "outputs": [
    {
     "name": "stdout",
     "output_type": "stream",
     "text": [
      "start of loop\n",
      "0\n",
      "1\n",
      "2\n",
      "3\n",
      "4\n",
      "5\n",
      "6\n",
      "7\n",
      "8\n",
      "9\n",
      "End of loop\n"
     ]
    }
   ],
   "source": [
    "i =0\n",
    "print(\"start of loop\")\n",
    "while i<10:\n",
    "    print(i)\n",
    "    i = i+1    \n",
    "print(\"End of loop\")\n",
    "    "
   ]
  },
  {
   "cell_type": "code",
   "execution_count": 251,
   "id": "90d8c8d6",
   "metadata": {},
   "outputs": [
    {
     "name": "stdout",
     "output_type": "stream",
     "text": [
      "start of loop\n",
      "10\n",
      "9\n",
      "8\n",
      "7\n",
      "6\n",
      "5\n",
      "4\n",
      "3\n",
      "2\n",
      "1\n",
      "End of loop\n"
     ]
    }
   ],
   "source": [
    "i =10\n",
    "print(\"start of loop\")\n",
    "while i>0:\n",
    "    print(i)\n",
    "    i = i-1   \n",
    "print(\"End of loop\")\n",
    "    "
   ]
  },
  {
   "cell_type": "code",
   "execution_count": 259,
   "id": "c84b8521",
   "metadata": {},
   "outputs": [
    {
     "name": "stdout",
     "output_type": "stream",
     "text": [
      "start of loop\n",
      "2\n",
      "4\n",
      "6\n",
      "8\n",
      "10\n",
      "End of loop\n"
     ]
    }
   ],
   "source": [
    "i =0\n",
    "print(\"start of loop\")\n",
    "while i<10:\n",
    "    i =i+2\n",
    "    print(i)\n",
    "print(\"End of loop\")"
   ]
  },
  {
   "cell_type": "code",
   "execution_count": 267,
   "id": "5151a9e5",
   "metadata": {},
   "outputs": [
    {
     "name": "stdout",
     "output_type": "stream",
     "text": [
      "5 * 1 = 5\n",
      "5 * 2 = 10\n",
      "5 * 3 = 15\n",
      "5 * 4 = 20\n",
      "5 * 5 = 25\n",
      "5 * 6 = 30\n",
      "5 * 7 = 35\n",
      "5 * 8 = 40\n",
      "5 * 9 = 45\n",
      "5 * 10 = 50\n"
     ]
    }
   ],
   "source": [
    "i =1\n",
    "\n",
    "while i<11:\n",
    "    print(\"5 *\",i, \"=\",5*i)\n",
    "    i =i+1"
   ]
  },
  {
   "cell_type": "code",
   "execution_count": 266,
   "id": "de02c58d",
   "metadata": {},
   "outputs": [
    {
     "name": "stdout",
     "output_type": "stream",
     "text": [
      "Hello 100\n"
     ]
    }
   ],
   "source": [
    "x =100\n",
    "print(\"Hello\", x)"
   ]
  },
  {
   "cell_type": "code",
   "execution_count": 270,
   "id": "fb931e86",
   "metadata": {},
   "outputs": [
    {
     "name": "stdout",
     "output_type": "stream",
     "text": [
      "Enter a78\n",
      "Enter a90\n"
     ]
    }
   ],
   "source": [
    "a = int(input(\"Enter a\"))\n",
    "b = int(input(\"Enter a\"))\n",
    "c =a +b"
   ]
  },
  {
   "cell_type": "code",
   "execution_count": 271,
   "id": "fd75b0ce",
   "metadata": {},
   "outputs": [
    {
     "data": {
      "text/plain": [
       "168"
      ]
     },
     "execution_count": 271,
     "metadata": {},
     "output_type": "execute_result"
    }
   ],
   "source": [
    "c"
   ]
  },
  {
   "cell_type": "code",
   "execution_count": 274,
   "id": "59426aa3",
   "metadata": {
    "scrolled": true
   },
   "outputs": [
    {
     "name": "stdout",
     "output_type": "stream",
     "text": [
      "Enter the multiplication table n0: 2\n",
      "2 * 1 = 2\n",
      "2 * 2 = 4\n",
      "2 * 3 = 6\n",
      "2 * 4 = 8\n",
      "2 * 5 = 10\n",
      "2 * 6 = 12\n",
      "2 * 7 = 14\n",
      "2 * 8 = 16\n",
      "2 * 9 = 18\n",
      "2 * 10 = 20\n"
     ]
    }
   ],
   "source": [
    "i =1\n",
    "a = int(input(\"Enter the multiplication table n0: \"))\n",
    "while i<11:\n",
    "    print(a,\"*\",i, \"=\",a*i)\n",
    "    i =i+1"
   ]
  },
  {
   "cell_type": "markdown",
   "id": "6bb437e0",
   "metadata": {},
   "source": [
    "For loop"
   ]
  },
  {
   "cell_type": "code",
   "execution_count": 275,
   "id": "13dab137",
   "metadata": {},
   "outputs": [
    {
     "name": "stdout",
     "output_type": "stream",
     "text": [
      "1\n",
      "2\n",
      "3\n",
      "4\n",
      "5\n"
     ]
    }
   ],
   "source": [
    "for i in [1,2,3,4,5]:\n",
    "    print(i)"
   ]
  },
  {
   "cell_type": "code",
   "execution_count": 282,
   "id": "bc910bf4",
   "metadata": {},
   "outputs": [
    {
     "name": "stdout",
     "output_type": "stream",
     "text": [
      "a\n",
      "b\n",
      "c\n",
      "car\n"
     ]
    }
   ],
   "source": [
    "a ='Hi'\n",
    "for j in ['a', 'b', 'c','car']:\n",
    "    print(j)"
   ]
  },
  {
   "cell_type": "code",
   "execution_count": 283,
   "id": "6d9b6a2e",
   "metadata": {},
   "outputs": [
    {
     "name": "stdout",
     "output_type": "stream",
     "text": [
      "c\n",
      "a\n",
      "r\n"
     ]
    }
   ],
   "source": [
    "a ='Hi'\n",
    "for j in 'car':\n",
    "    print(j)"
   ]
  },
  {
   "cell_type": "code",
   "execution_count": 284,
   "id": "955d492c",
   "metadata": {},
   "outputs": [
    {
     "name": "stdout",
     "output_type": "stream",
     "text": [
      "5 * 1 = 5\n",
      "5 * 2 = 10\n",
      "5 * 3 = 15\n",
      "5 * 4 = 20\n",
      "5 * 5 = 25\n"
     ]
    }
   ],
   "source": [
    "for i in [1,2,3,4,5]:\n",
    "    print(\"5 *\",i, \"=\",5*i)"
   ]
  },
  {
   "cell_type": "code",
   "execution_count": 286,
   "id": "3eb02bc8",
   "metadata": {},
   "outputs": [
    {
     "name": "stdout",
     "output_type": "stream",
     "text": [
      "1\n",
      "2\n",
      "3\n",
      "4\n",
      "5\n",
      "6\n",
      "7\n",
      "8\n",
      "9\n"
     ]
    }
   ],
   "source": [
    "for i in range(1,10):\n",
    "    print(i)"
   ]
  },
  {
   "cell_type": "code",
   "execution_count": 287,
   "id": "c7359a73",
   "metadata": {},
   "outputs": [
    {
     "name": "stdout",
     "output_type": "stream",
     "text": [
      "10\n",
      "11\n",
      "12\n",
      "13\n",
      "14\n",
      "15\n",
      "16\n",
      "17\n",
      "18\n",
      "19\n",
      "20\n"
     ]
    }
   ],
   "source": [
    "for i in range(10,21):\n",
    "    print(i)"
   ]
  },
  {
   "cell_type": "code",
   "execution_count": 289,
   "id": "ec4d7849",
   "metadata": {},
   "outputs": [
    {
     "name": "stdout",
     "output_type": "stream",
     "text": [
      "Enter table21\n",
      "21 * 1 = 21\n",
      "21 * 2 = 42\n",
      "21 * 3 = 63\n",
      "21 * 4 = 84\n",
      "21 * 5 = 105\n",
      "21 * 6 = 126\n",
      "21 * 7 = 147\n",
      "21 * 8 = 168\n",
      "21 * 9 = 189\n",
      "21 * 10 = 210\n"
     ]
    }
   ],
   "source": [
    "a = int(input(\"Enter table\"))\n",
    "\n",
    "for i in range(1,11):\n",
    "    print(a,\"*\",i, \"=\",a*i)"
   ]
  },
  {
   "cell_type": "code",
   "execution_count": 290,
   "id": "d08812ce",
   "metadata": {},
   "outputs": [],
   "source": [
    "a = 10"
   ]
  },
  {
   "cell_type": "code",
   "execution_count": 291,
   "id": "e020e814",
   "metadata": {},
   "outputs": [],
   "source": [
    "y = str(a)"
   ]
  },
  {
   "cell_type": "code",
   "execution_count": 292,
   "id": "5209885c",
   "metadata": {},
   "outputs": [
    {
     "data": {
      "text/plain": [
       "'10'"
      ]
     },
     "execution_count": 292,
     "metadata": {},
     "output_type": "execute_result"
    }
   ],
   "source": [
    "y"
   ]
  },
  {
   "cell_type": "code",
   "execution_count": 293,
   "id": "05a77b6e",
   "metadata": {},
   "outputs": [],
   "source": [
    "t1 = (10,20,404,89.0,90)"
   ]
  },
  {
   "cell_type": "code",
   "execution_count": 294,
   "id": "d98dd917",
   "metadata": {},
   "outputs": [
    {
     "data": {
      "text/plain": [
       "tuple"
      ]
     },
     "execution_count": 294,
     "metadata": {},
     "output_type": "execute_result"
    }
   ],
   "source": [
    "type(t1)"
   ]
  },
  {
   "cell_type": "code",
   "execution_count": 295,
   "id": "270df874",
   "metadata": {},
   "outputs": [],
   "source": [
    "a = list(t1)"
   ]
  },
  {
   "cell_type": "code",
   "execution_count": 296,
   "id": "97109b94",
   "metadata": {},
   "outputs": [
    {
     "data": {
      "text/plain": [
       "[10, 20, 404, 89.0, 90]"
      ]
     },
     "execution_count": 296,
     "metadata": {},
     "output_type": "execute_result"
    }
   ],
   "source": [
    "a"
   ]
  },
  {
   "cell_type": "code",
   "execution_count": null,
   "id": "ba3a635b",
   "metadata": {},
   "outputs": [],
   "source": []
  }
 ],
 "metadata": {
  "kernelspec": {
   "display_name": "Python 3 (ipykernel)",
   "language": "python",
   "name": "python3"
  },
  "language_info": {
   "codemirror_mode": {
    "name": "ipython",
    "version": 3
   },
   "file_extension": ".py",
   "mimetype": "text/x-python",
   "name": "python",
   "nbconvert_exporter": "python",
   "pygments_lexer": "ipython3",
   "version": "3.11.4"
  }
 },
 "nbformat": 4,
 "nbformat_minor": 5
}
